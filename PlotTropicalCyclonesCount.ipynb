{
 "cells": [
  {
   "cell_type": "markdown",
   "metadata": {},
   "source": [
    "# Plot Tropical Cyclone Counts on a Map\n",
    "\n",
    "Let's plot the number of Tropical Cyclones between 1842 and 2021.\n",
    "\n",
    "We expect most tropical cyclones to be located in the vicinity shown in this __[article](https://mynasadata.larc.nasa.gov/basic-page/hurricane-dynamics#:~:text=Credit%3A%C2%A0%20NASA%20SpacePlace)__. Let's see if the results are as expected!\n",
    "\n",
    "We will be downloading our data from NASA's Open-source Project for a Network Data Access Protocol (__[OPeNDAP](https://www.earthdata.nasa.gov/engage/open-data-services-and-software/api/opendap)__)."
   ]
  },
  {
   "cell_type": "markdown",
   "metadata": {},
   "source": [
    "### Step 1. Import required libraries.\n",
    "-  The 'matplotlib.pyplot' library is used to create and customize plots.\n",
    "-  The 'xarray' library allows us to work with multi-dimensional array, like the data for this exercise.\n",
    "-  The 'cartopy.crs' library is used to create maps."
   ]
  },
  {
   "cell_type": "code",
   "execution_count": null,
   "metadata": {},
   "outputs": [],
   "source": [
    "import numpy as np\n",
    "import matplotlib.pyplot as plt\n",
    "import xarray as xr\n",
    "import cartopy.crs as ccrs"
   ]
  },
  {
   "cell_type": "markdown",
   "metadata": {},
   "source": [
    "### Step 2. Load the data.\n",
    "Load the data from __[this link](http://mynasadata.larc.nasa.gov/thredds/dodsC/EarthSystemLAS/Cyclone/data_usr_local_fer_data_fer_data_dev_data_Hurr_CycloneCount_80km_v2022.nc_Count_Globe_init_CTS.jnl)__, acquired from __[this link](https://mynasadata.larc.nasa.gov/thredds/dodsC/EarthSystemLAS/Cyclone/data_usr_local_fer_data_fer_data_dev_data_Hurr_CycloneCount_80km_v2022.nc_Count_Globe_init_CTS.jnl.html)__ retreived from the __[NASA Earth System Data Explorer](https://mynasadata.larc.nasa.gov/EarthSystemLAS/UI.vm)__.\n",
    "\n",
    "-  Use the 'xr.open_dataset()' function to open and load the data. \n",
    "-  Title the dataset 'data' or another name of your choice."
   ]
  },
  {
   "cell_type": "code",
   "execution_count": null,
   "metadata": {},
   "outputs": [],
   "source": [
    "# Load the data\n",
    "data = xr.open_dataset('http://mynasadata.larc.nasa.gov/thredds/dodsC/EarthSystemLAS/Cyclone/data_usr_local_fer_data_fer_data_dev_data_Hurr_CycloneCount_80km_v2022.nc_Count_Globe_init_CTS.jnl')"
   ]
  },
  {
   "cell_type": "markdown",
   "metadata": {},
   "source": [
    "### Step 3. Print variable names from the dataset.\n",
    "-  If we don't know what the variables are named in the dataset, we can ask to print them.\n",
    "-  This will make it simple to extract what we need to plot."
   ]
  },
  {
   "cell_type": "code",
   "execution_count": null,
   "metadata": {},
   "outputs": [],
   "source": [
    "print(list(data.variables))"
   ]
  },
  {
   "cell_type": "markdown",
   "metadata": {},
   "source": [
    "### Step 4. Extract variables for plotting.\n",
    "-  Extract the longitude, latitude, and cyclone count data."
   ]
  },
  {
   "cell_type": "code",
   "execution_count": null,
   "metadata": {},
   "outputs": [],
   "source": [
    "# Extract variables for plotting\n",
    "lon = data['LON']\n",
    "lat = data['LAT']\n",
    "cyclone_count = data['CTS']"
   ]
  },
  {
   "cell_type": "markdown",
   "metadata": {},
   "source": [
    "### Step 5. Plot the data.\n",
    "\n",
    "#### Create a plot.\n",
    "-  Create a new figure for our plot, choosing the size.\n",
    "\n",
    "#### Create a map projection.\n",
    "-  Create a map projection by using a set of axes and a standard geographic coordinate system, 'ccrs.PlateCarree()'. \n",
    "\n",
    "#### Plot the data.\n",
    "-  Create a filled contour plot of the cyclone count data using 'plt.contourf()'. \n",
    "-  Choose the colormap color from these __[options](https://matplotlib.org/stable/users/explain/colors/colormaps.html)__ and apply the Plate Carree projection with the transformation 'transform=ccrs.PlateCarree()'.\n",
    "\n",
    "#### Customize the plot\n",
    "-  Add a colorbar, title, and axis titles\n",
    "-  Add coastlines to the map \n",
    "-  Add gridlines and labels to the map"
   ]
  },
  {
   "cell_type": "code",
   "execution_count": null,
   "metadata": {
    "scrolled": false
   },
   "outputs": [],
   "source": [
    "# Create a plot\n",
    "plt.figure(figsize=(20, 12))\n",
    "\n",
    "# Create a map projection\n",
    "ax = plt.axes(projection=ccrs.PlateCarree())\n",
    "\n",
    "# Plot the data\n",
    "plt.contourf(lon, lat, cyclone_count, cmap='viridis', transform=ccrs.PlateCarree())\n",
    "plt.colorbar(label='Cyclone Count', shrink=0.7)\n",
    "plt.xlabel('Longitude')\n",
    "plt.ylabel('Latitude')\n",
    "plt.title('Cyclone Count Map')\n",
    "\n",
    "# Customize the plot with coastlines and gridlines\n",
    "ax.coastlines()\n",
    "ax.gridlines(draw_labels=True)\n",
    "\n",
    "# Show the plot\n",
    "plt.show()"
   ]
  },
  {
   "cell_type": "markdown",
   "metadata": {},
   "source": [
    "Do our results meet our expectations of where most tropical cyclones occur according to the __[article](https://mynasadata.larc.nasa.gov/basic-page/hurricane-dynamics#:~:text=Credit%3A%C2%A0%20NASA%20SpacePlace)__? Explain."
   ]
  },
  {
   "cell_type": "markdown",
   "metadata": {},
   "source": [
    "#### References\n",
    "\n",
    "__[NASA Earth System Data Explorer](https://mynasadata.larc.nasa.gov/EarthSystemLAS/UI.vm)__\n",
    "\n",
    "__[Cartopy Documentation: Using cartopy with matplotlib](https://cartopy-pelson.readthedocs.io/en/readthedocs/matplotlib/intro.html)__\n",
    "\n",
    "__[Xarray Documentation: Reading and Writing Files](https://docs.xarray.dev/en/stable/user-guide/io.html)__\n",
    "\n",
    "__[Making Maps Using Cartopy](https://kpegion.github.io/Pangeo-at-AOES/examples/cartopy-tutorial.html)__"
   ]
  }
 ],
 "metadata": {
  "kernelspec": {
   "display_name": "Python 3",
   "language": "python",
   "name": "python3"
  },
  "language_info": {
   "codemirror_mode": {
    "name": "ipython",
    "version": 3
   },
   "file_extension": ".py",
   "mimetype": "text/x-python",
   "name": "python",
   "nbconvert_exporter": "python",
   "pygments_lexer": "ipython3",
   "version": "3.8.3"
  }
 },
 "nbformat": 4,
 "nbformat_minor": 4
}
